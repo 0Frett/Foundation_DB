{
 "cells": [
  {
   "cell_type": "code",
   "execution_count": 1,
   "metadata": {},
   "outputs": [],
   "source": [
    "from pymilvus import *\n",
    "\n",
    "#########   KEY IN YOUR IP  #########\n",
    "client = MilvusClient(\n",
    "    uri=\"http://192.168.1.111:19530\"\n",
    ")"
   ]
  },
  {
   "cell_type": "code",
   "execution_count": 35,
   "metadata": {},
   "outputs": [
    {
     "data": {
      "text/plain": [
       "{'auto_id': True, 'description': '', 'fields': [{'name': 'id', 'description': '', 'type': <DataType.INT64: 5>, 'is_primary': True, 'auto_id': True}, {'name': 'vector', 'description': '', 'type': <DataType.FLOAT_VECTOR: 101>, 'params': {'dim': 512}}, {'name': 'image_url', 'description': '', 'type': <DataType.VARCHAR: 21>, 'params': {'max_length': 200}}, {'name': 'image_description', 'description': '', 'type': <DataType.VARCHAR: 21>, 'params': {'max_length': 10000}}, {'name': 'ai_description', 'description': '', 'type': <DataType.VARCHAR: 21>, 'params': {'max_length': 10000}}, {'name': 'keywords', 'description': '', 'type': <DataType.ARRAY: 22>, 'params': {'max_length': 1000, 'max_capacity': 4096}, 'element_type': <DataType.VARCHAR: 21>}, {'name': 'group', 'description': '', 'type': <DataType.INT64: 5>}, {'name': 'subgroup', 'description': '', 'type': <DataType.INT64: 5>}], 'enable_dynamic_field': True}"
      ]
     },
     "execution_count": 35,
     "metadata": {},
     "output_type": "execute_result"
    }
   ],
   "source": [
    "schema = MilvusClient.create_schema(\n",
    "    auto_id=True,\n",
    "    enable_dynamic_field=True,\n",
    ")\n",
    "\n",
    "schema.add_field(field_name=\"id\", datatype=DataType.INT64, is_primary=True, auto_id=True)\n",
    "schema.add_field(field_name=\"vector\", datatype=DataType.FLOAT_VECTOR, dim=512)\n",
    "schema.add_field(field_name=\"image_url\", datatype=DataType.VARCHAR, max_length=200)\n",
    "schema.add_field(field_name=\"image_description\", datatype=DataType.VARCHAR, max_length=10000)\n",
    "schema.add_field(field_name=\"ai_description\", datatype=DataType.VARCHAR, max_length=10000)\n",
    "schema.add_field(field_name=\"keywords\", datatype=DataType.ARRAY, element_type=DataType.VARCHAR, max_capacity=4096, max_length=1000)\n",
    "schema.add_field(field_name=\"group\", datatype=DataType.INT64)\n",
    "schema.add_field(field_name=\"subgroup\", datatype=DataType.INT64)"
   ]
  },
  {
   "cell_type": "code",
   "execution_count": 20,
   "metadata": {},
   "outputs": [],
   "source": [
    "index_params = client.prepare_index_params()\n",
    "\n",
    "index_params.add_index(\n",
    "    field_name=\"id\",\n",
    "    index_type=\"STL_SORT\"\n",
    ")\n",
    "\n",
    "index_params.add_index(\n",
    "    field_name=\"vector\", \n",
    "    index_type=\"IVF_FLAT\",\n",
    "    metric_type=\"COSINE\",\n",
    "    params={ \"nlist\": 128 }\n",
    ")\n",
    "\n"
   ]
  },
  {
   "cell_type": "code",
   "execution_count": 36,
   "metadata": {},
   "outputs": [],
   "source": [
    "client.create_collection(\n",
    "    collection_name=\"image\",\n",
    "    schema=schema,\n",
    "    index_params=index_params\n",
    ")"
   ]
  },
  {
   "cell_type": "code",
   "execution_count": 37,
   "metadata": {},
   "outputs": [],
   "source": [
    "num_sub = [20, 3, 3, 5, 5]\n",
    "\n",
    "for i in range(5):\n",
    "    for j in range(num_sub[i]):\n",
    "        client.create_partition(\n",
    "            collection_name=\"image\",\n",
    "            partition_name=(str(i) + \"_\" + str(j))\n",
    "        )"
   ]
  },
  {
   "cell_type": "code",
   "execution_count": 32,
   "metadata": {},
   "outputs": [],
   "source": [
    "client.drop_collection(\"image\")"
   ]
  }
 ],
 "metadata": {
  "kernelspec": {
   "display_name": "base",
   "language": "python",
   "name": "python3"
  },
  "language_info": {
   "codemirror_mode": {
    "name": "ipython",
    "version": 3
   },
   "file_extension": ".py",
   "mimetype": "text/x-python",
   "name": "python",
   "nbconvert_exporter": "python",
   "pygments_lexer": "ipython3",
   "version": "3.11.5"
  }
 },
 "nbformat": 4,
 "nbformat_minor": 2
}
