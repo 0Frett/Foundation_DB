{
 "cells": [
  {
   "cell_type": "code",
   "execution_count": 2,
   "metadata": {},
   "outputs": [],
   "source": [
    "from pymilvus import MilvusClient\n",
    "import numpy as np\n",
    "import json\n",
    "import pandas as pd\n",
    "import pickle\n",
    "import time\n",
    "from tqdm import tqdm\n",
    "\n",
    "#########   KEY IN YOUR IP  #########\n",
    "client = MilvusClient(\n",
    "    uri=\"http://192.168.1.111:19530\"\n",
    ")"
   ]
  },
  {
   "cell_type": "code",
   "execution_count": 10,
   "metadata": {},
   "outputs": [],
   "source": [
    "save_pairs = {}\n",
    "pair_path = 'db-data\\save_pairs.pkl' \n",
    "with open(pair_path, 'wb') as file:\n",
    "    pickle.dump(save_pairs, file)\n"
   ]
  },
  {
   "cell_type": "code",
   "execution_count": 11,
   "metadata": {},
   "outputs": [
    {
     "name": "stderr",
     "output_type": "stream",
     "text": [
      "100%|██████████| 24976/24976 [01:23<00:00, 299.38it/s]\n"
     ]
    }
   ],
   "source": [
    "file_path = \"db-data/emb_info.pkl\"\n",
    "with open(file_path, 'rb') as file:\n",
    "    emb_info = pickle.load(file)\n",
    "df = pd.read_csv('db-data\\merge_df.csv')\n",
    "pair_path = 'db-data\\save_pairs.pkl' \n",
    "load = True\n",
    "for index, row in tqdm(df.iterrows(), total=df.shape[0]):\n",
    "    if load:\n",
    "        with open(pair_path, 'rb') as file:\n",
    "            save_pairs = pickle.load(file)\n",
    "        load = False\n",
    "        time.sleep(3)\n",
    "\n",
    "    save_pairs[index] = {\n",
    "        'photo_id' : row['photo_id'],\n",
    "        'img_url' : row['photo_image_url'],\n",
    "        'photo_description' : row['photo_description'],\n",
    "        'ai_description' : row['ai_description'],\n",
    "        'keywords': row['keywords'],\n",
    "        'group' : row['group'],\n",
    "        'subgroup' : row['subgroup'],\n",
    "        'embeddings' : emb_info[row['photo_id']]['embs']\n",
    "    }\n",
    "    if index % 2000 == 0:\n",
    "        with open(pair_path, 'wb') as file:\n",
    "            pickle.dump(save_pairs, file)\n",
    "        load = True\n",
    "        time.sleep(3)\n"
   ]
  },
  {
   "cell_type": "code",
   "execution_count": null,
   "metadata": {},
   "outputs": [],
   "source": [
    "save_pairs[0]"
   ]
  },
  {
   "cell_type": "code",
   "execution_count": 37,
   "metadata": {},
   "outputs": [],
   "source": [
    "def parse_string_to_list(input_string):\n",
    "    \"\"\"\n",
    "    Parse a string into several items using a comma as the delimiter\n",
    "    and save all items in a list.\n",
    "\n",
    "    Args:\n",
    "    input_string (str): The string to be parsed.\n",
    "\n",
    "    Returns:\n",
    "    list: A list containing the parsed items.\n",
    "    \"\"\"\n",
    "    # Split the input string by the delimiter ','\n",
    "    items = input_string.split(',')\n",
    "\n",
    "    # Strip any leading/trailing whitespace from each item\n",
    "    items = [item.strip() for item in items]\n",
    "\n",
    "    return items\n"
   ]
  },
  {
   "cell_type": "code",
   "execution_count": 57,
   "metadata": {},
   "outputs": [
    {
     "name": "stderr",
     "output_type": "stream",
     "text": [
      "100%|██████████| 24001/24001 [02:08<00:00, 186.72it/s]\n"
     ]
    }
   ],
   "source": [
    "pair_path = 'db-data\\save_pairs.pkl' \n",
    "with open(pair_path, 'rb') as file:\n",
    "    save_pairs = pickle.load(file)\n",
    "\n",
    "for key, value in tqdm(save_pairs.items(), total=len(save_pairs)):\n",
    "    data = {\n",
    "        'vector':list(value['embeddings']),\n",
    "        'image_url':str(value['img_url']),\n",
    "        'image_description':str(value['photo_description']),\n",
    "        'ai_description':str(value['ai_description']),\n",
    "        'keywords':parse_string_to_list(value['keywords']),\n",
    "        'group':value['group'],\n",
    "        'subgroup':value['subgroup']\n",
    "    }    \n",
    "    res = client.insert(\n",
    "        collection_name=\"image\",\n",
    "        data=data,\n",
    "        partition_name=f\"{value['group']}_{value['subgroup']}\"\n",
    "    )\n"
   ]
  }
 ],
 "metadata": {
  "kernelspec": {
   "display_name": "apia",
   "language": "python",
   "name": "python3"
  },
  "language_info": {
   "codemirror_mode": {
    "name": "ipython",
    "version": 3
   },
   "file_extension": ".py",
   "mimetype": "text/x-python",
   "name": "python",
   "nbconvert_exporter": "python",
   "pygments_lexer": "ipython3",
   "version": "3.11.5"
  }
 },
 "nbformat": 4,
 "nbformat_minor": 2
}
